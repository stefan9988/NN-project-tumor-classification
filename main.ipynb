{
 "cells": [
  {
   "cell_type": "code",
   "execution_count": 1,
   "id": "f94dbfab",
   "metadata": {},
   "outputs": [],
   "source": [
    "\"\"\"import tensorflow as tf\n",
    "from tensorflow.keras.applications.vgg19 import VGG19\n",
    "from tensorflow.keras.layers import Input, Dense, Conv2DTranspose, UpSampling2D, Concatenate, GlobalAveragePooling2D\n",
    "from tensorflow.keras.models import Model\n",
    "\n",
    "# Load pre-trained U-Net model\n",
    "base_model = VGG19(weights='imagenet', include_top=False, input_tensor=Input(shape=(224,224,3)))\n",
    "\n",
    "# Freeze the base model\n",
    "base_model.trainable = False\n",
    "\n",
    "# Extract features from pre-trained model\n",
    "encoder_outputs = [base_model.get_layer(name).output for name in [\"block1_pool\", \"block2_pool\", \"block3_pool\", \"block4_pool\", \"block5_pool\"]]\n",
    "\n",
    "# Create the decoder part of the U-Net model\n",
    "x = encoder_outputs[-1]\n",
    "for i in range(4, 0, -1):\n",
    "    x = Conv2DTranspose(512, (3, 3), strides=(2, 2), padding='same', activation='relu')(x)\n",
    "    x = Concatenate()([x, encoder_outputs[i-1]])\n",
    "    x = Conv2DTranspose(256, (3, 3), activation='relu', padding='same')(x)\n",
    "    x = Conv2DTranspose(256, (3, 3), activation='relu', padding='same')(x)\n",
    "\n",
    "x = Conv2DTranspose(128, (3, 3), activation='relu', padding='same')(x)\n",
    "x = Conv2DTranspose(64, (3, 3), activation='relu', padding='same')(x)\n",
    "x = Conv2DTranspose(64, (3, 3), activation='relu', padding='same')(x)\n",
    "\n",
    "# Add a GlobalAveragePooling2D layer to reduce the spatial dimensions of the feature map\n",
    "x = GlobalAveragePooling2D()(x)\n",
    "\n",
    "# Add a fully connected layer with a sigmoid activation to predict the cancer class\n",
    "output_layer = Dense(1, activation='sigmoid')(x)\n",
    "\n",
    "# Create the final model by combining the encoder and decoder\n",
    "model = Model(inputs=base_model.input, outputs=output_layer)\n",
    "\"\"\""
   ]
  },
  {
   "cell_type": "code",
   "execution_count": null,
   "id": "954914ea",
   "metadata": {},
   "outputs": [],
   "source": [
    "from keras.models import Sequential\n",
    "from keras.layers import Conv2D, MaxPooling2D, Dropout, Flatten, Dense\n",
    "\n",
    "# Create the AlexNet model\n",
    "model = Sequential()\n",
    "\n",
    "# Layer 1: Convolutional layer with 96 filters of size 11x11 and stride of 4\n",
    "model.add(Conv2D(96, (11, 11), strides=(4, 4), activation='relu', input_shape=(224, 224, 3)))\n",
    "\n",
    "# Layer 2: Max pooling layer with size 3x3 and stride of 2\n",
    "model.add(MaxPooling2D((3, 3), strides=(2, 2)))\n",
    "\n",
    "# Layer 3: Convolutional layer with 256 filters of size 5x5 and padding\n",
    "model.add(Conv2D(256, (5, 5), padding='same', activation='relu'))\n",
    "\n",
    "# Layer 4: Max pooling layer with size 3x3 and stride of 2\n",
    "model.add(MaxPooling2D((3, 3), strides=(2, 2)))\n",
    "\n",
    "# Layer 5: Convolutional layer with 384 filters of size 3x3 and padding\n",
    "model.add(Conv2D(384, (3, 3), padding='same', activation='relu'))\n",
    "\n",
    "# Layer 6: Convolutional layer with 384 filters of size 3x3 and padding\n",
    "model.add(Conv2D(384, (3, 3), padding='same', activation='relu'))\n",
    "\n",
    "# Layer 7: Max pooling layer with size 3x3 and stride of 2\n",
    "model.add(MaxPooling2D((3, 3), strides=(2, 2)))\n",
    "\n",
    "# Layer 8: Flatten layer to convert the output of the previous layer to a 1D array\n",
    "model.add(Flatten())\n",
    "\n",
    "# Layer 9: Fully connected layer with 512 neurons\n",
    "model.add(Dense(512, activation='relu'))\n",
    "\n",
    "# Layer 10: Dropout layer to reduce overfitting\n",
    "model.add(Dropout(0.5))\n",
    "\n",
    "# Layer 11: Fully connected layer with 512 neurons\n",
    "model.add(Dense(512, activation='relu'))\n",
    "\n",
    "# Layer 12: Dropout layer to reduce overfitting\n",
    "model.add(Dropout(0.5))\n",
    "\n",
    "# Layer 13: Output layer with 1 neuron for binary classification\n",
    "model.add(Dense(1, activation='sigmoid'))\n",
    "\n",
    "# Print the model summary\n",
    "model.summary()\n"
   ]
  },
  {
   "cell_type": "code",
   "execution_count": 2,
   "id": "41390889",
   "metadata": {},
   "outputs": [],
   "source": [
    "cancerFolder = 'archive/Brain Tumor Data Set/Brain Tumor Data Set/Brain Tumor'\n",
    "nonCancerFolder = 'archive/Brain Tumor Data Set/Brain Tumor Data Set/Healthy'"
   ]
  },
  {
   "cell_type": "code",
   "execution_count": 3,
   "id": "3e3b6c7c",
   "metadata": {},
   "outputs": [],
   "source": [
    "import glob\n",
    "import numpy as np\n",
    "from sklearn.utils import shuffle\n",
    "\n",
    "cancerFiles = glob.glob('{}*/*.jpg'.format(cancerFolder), recursive=True)\n",
    "nonCancerFiles = glob.glob('{}*/*.jpg'.format(nonCancerFolder), recursive=True)\n",
    "imageSamplesFiles = cancerFiles + nonCancerFiles\n",
    "y = np.concatenate((np.ones(len(cancerFiles)), np.zeros(len(nonCancerFiles))))\n",
    "imageSamplesFiles, y = shuffle(imageSamplesFiles, y)"
   ]
  },
  {
   "cell_type": "code",
   "execution_count": 4,
   "id": "367ee204",
   "metadata": {},
   "outputs": [],
   "source": [
    "from sklearn.model_selection import train_test_split as trainTestSplit\n",
    "\n",
    "xTrain, xTest, yTrain, yTest = trainTestSplit(imageSamplesFiles, y, test_size=0.2, random_state=42)\n",
    "#xTrain, xVal, yTrain, yVal = trainTestSplit(xTrain, yTrain, test_size=0.2, random_state=42)"
   ]
  },
  {
   "cell_type": "code",
   "execution_count": 5,
   "id": "b1e5384c",
   "metadata": {},
   "outputs": [],
   "source": [
    "import cv2\n",
    "import numpy as np\n",
    "\n",
    "def resize_images(imgs):\n",
    "    resized_images = []\n",
    "    for img_path in imgs:\n",
    "        # Read the image using cv2.imread()\n",
    "        img = cv2.imread(img_path)\n",
    "        # Resize the image using cv2.resize()\n",
    "        resized_img = cv2.resize(img, (224, 224))\n",
    "        # Append the resized image to the list\n",
    "        resized_images.append(resized_img)\n",
    "    return np.array(resized_images)"
   ]
  },
  {
   "cell_type": "code",
   "execution_count": 6,
   "id": "d8a97a8a",
   "metadata": {},
   "outputs": [],
   "source": [
    "xTrain=resize_images(xTrain)\n",
    "xTest=resize_images(xTest)"
   ]
  },
  {
   "cell_type": "code",
   "execution_count": 7,
   "id": "5e5f25e6",
   "metadata": {},
   "outputs": [],
   "source": [
    "model.compile(optimizer='adam', loss='binary_crossentropy', metrics=['accuracy'])"
   ]
  },
  {
   "cell_type": "code",
   "execution_count": 8,
   "id": "6e2058fd",
   "metadata": {},
   "outputs": [],
   "source": [
    "from keras.callbacks import ModelCheckpoint\n",
    "\n",
    "# define the filepath for the best model to be saved\n",
    "filepath=\"alexnet_model.hdf5\"\n",
    "\n",
    "# define the ModelCheckpoint callback\n",
    "checkpoint = ModelCheckpoint(filepath, monitor='val_loss', verbose=1, save_best_only=True, mode='min')"
   ]
  },
  {
   "cell_type": "code",
   "execution_count": 9,
   "id": "e07e04fb",
   "metadata": {},
   "outputs": [
    {
     "name": "stdout",
     "output_type": "stream",
     "text": [
      "Epoch 1/2\n",
      "113/113 [==============================] - ETA: 0s - loss: 133.8574 - accuracy: 0.5139  \n",
      "Epoch 1: val_loss improved from inf to 0.68876, saving model to best_model.hdf5\n",
      "113/113 [==============================] - 24000s 213s/step - loss: 133.8574 - accuracy: 0.5139 - val_loss: 0.6888 - val_accuracy: 0.5443\n",
      "Epoch 2/2\n",
      "113/113 [==============================] - ETA: 0s - loss: 0.6871 - accuracy: 0.5391  \n",
      "Epoch 2: val_loss improved from 0.68876 to 0.68676, saving model to best_model.hdf5\n",
      "113/113 [==============================] - 26001s 230s/step - loss: 0.6871 - accuracy: 0.5391 - val_loss: 0.6868 - val_accuracy: 0.5443\n"
     ]
    }
   ],
   "source": [
    "# train the model using the callback\n",
    "history = model.fit(xTrain, yTrain, epochs=100, batch_size=500, validation_data=(xTest, yTest), callbacks=[checkpoint])"
   ]
  },
  {
   "cell_type": "code",
   "execution_count": 18,
   "id": "d4333e51",
   "metadata": {},
   "outputs": [],
   "source": [
    "\"\"\"#Fine_tuning\n",
    "base_model.trainable = True\n",
    "from tensorflow.keras.optimizers import Adam\n",
    "\n",
    "model.compile(optimizer=Adam(learning_rate=0.00001),# Very low learning rate\n",
    "              loss='binary_crossentropy',\n",
    "              metrics=['accuracy'])\n",
    "\"\"\""
   ]
  },
  {
   "cell_type": "code",
   "execution_count": 19,
   "id": "40a78efb",
   "metadata": {},
   "outputs": [],
   "source": [
    "\"\"\"# define the filepath for the best model to be saved\n",
    "filepath=\"alexnet_ft_model.hdf5\"\n",
    "\n",
    "# define the ModelCheckpoint callback\n",
    "checkpoint = ModelCheckpoint(filepath, monitor='val_loss', verbose=1, save_best_only=True, mode='min')\"\"\""
   ]
  },
  {
   "cell_type": "code",
   "execution_count": 20,
   "id": "167feb9d",
   "metadata": {},
   "outputs": [
    {
     "name": "stdout",
     "output_type": "stream",
     "text": [
      "113/113 [==============================] - ETA: 0s - loss: 0.6858 - accuracy: 0.5369  \n",
      "Epoch 1: val_loss improved from inf to 0.68045, saving model to best_fine_tuned_model.hdf5\n",
      "113/113 [==============================] - 39462s 350s/step - loss: 0.6858 - accuracy: 0.5369 - val_loss: 0.6804 - val_accuracy: 0.5443\n"
     ]
    }
   ],
   "source": [
    "\"\"\"# train the model using the callback\n",
    "history_f = model.fit(xTrain, yTrain, epochs=50, batch_size=500, validation_data=(xTest, yTest), callbacks=[checkpoint])\"\"\""
   ]
  },
  {
   "cell_type": "code",
   "execution_count": null,
   "id": "24c36408",
   "metadata": {},
   "outputs": [],
   "source": []
  }
 ],
 "metadata": {
  "kernelspec": {
   "display_name": "Python 3 (ipykernel)",
   "language": "python",
   "name": "python3"
  },
  "language_info": {
   "codemirror_mode": {
    "name": "ipython",
    "version": 3
   },
   "file_extension": ".py",
   "mimetype": "text/x-python",
   "name": "python",
   "nbconvert_exporter": "python",
   "pygments_lexer": "ipython3",
   "version": "3.9.13"
  }
 },
 "nbformat": 4,
 "nbformat_minor": 5
}
